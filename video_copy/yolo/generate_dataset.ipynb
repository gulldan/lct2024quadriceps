{
 "cells": [
  {
   "cell_type": "code",
   "execution_count": 1,
   "metadata": {},
   "outputs": [],
   "source": [
    "from PIL import Image \n",
    "import os\n",
    "import random\n",
    "from tqdm import tqdm"
   ]
  },
  {
   "cell_type": "code",
   "execution_count": 2,
   "metadata": {},
   "outputs": [],
   "source": [
    "def get_random_img(video_frames_path: str):\n",
    "    videos = os.listdir(video_frames_path)\n",
    "    video = random.choice(videos)\n",
    "    video_frames_path = os.path.join(video_frames_path, video)\n",
    "\n",
    "    frames = os.listdir(video_frames_path)\n",
    "    frame = random.choice(frames)\n",
    "    video_frames_path = os.path.join(video_frames_path, frame)\n",
    "\n",
    "    return Image.open(video_frames_path)\n"
   ]
  },
  {
   "cell_type": "code",
   "execution_count": 5,
   "metadata": {},
   "outputs": [
    {
     "name": "stderr",
     "output_type": "stream",
     "text": [
      "100%|██████████| 1000/1000 [00:35<00:00, 28.56it/s]\n"
     ]
    }
   ],
   "source": [
    "dataset_path = \"./data/val\"\n",
    "dataset_size = 1000\n",
    "\n",
    "os.mkdir(os.path.join(dataset_path, \"labels/\"))\n",
    "os.mkdir(os.path.join(dataset_path, \"images/\"))\n",
    "\n",
    "for id in tqdm(range(dataset_size)):\n",
    "    main = get_random_img(\"../sampled/index/compressed_index\")\n",
    "    overlay = get_random_img(\"../sampled/index/compressed_index\")\n",
    "\n",
    "    scale_ratio = 1 / random.uniform(1.5, 3)\n",
    "    overlay = overlay.resize((int(overlay.width * scale_ratio), int(overlay.height * scale_ratio)))\n",
    "\n",
    "    overlay_x = random.randint(0, main.width-overlay.width)\n",
    "    overlay_y = random.randint(0, main.height-overlay.height)\n",
    "    if random.randint(0, 1):\n",
    "        overlay = overlay.rotate(random.randint(0,30))\n",
    "\n",
    "    overlay.putalpha(random.randint(150, 255))\n",
    "\n",
    "    main.paste(overlay, (overlay_x, overlay_y), mask=overlay)\n",
    "\n",
    "    x_center = (overlay_x + (overlay.width / 2)) / main.width\n",
    "    y_center = (overlay_y + (overlay.height / 2)) / main.height\n",
    "    width = overlay.width / main.width\n",
    "    height = overlay.height / main.height\n",
    "\n",
    "    with open(os.path.join(dataset_path, f\"labels/{id}.txt\"), \"w\") as f:\n",
    "        f.write(f\"0 {x_center} {y_center} {width} {height}\")\n",
    "    main.save(os.path.join(dataset_path, f\"images/{id}.jpg\"))\n"
   ]
  },
  {
   "cell_type": "code",
   "execution_count": null,
   "metadata": {},
   "outputs": [],
   "source": []
  }
 ],
 "metadata": {
  "kernelspec": {
   "display_name": "Python 3",
   "language": "python",
   "name": "python3"
  },
  "language_info": {
   "codemirror_mode": {
    "name": "ipython",
    "version": 3
   },
   "file_extension": ".py",
   "mimetype": "text/x-python",
   "name": "python",
   "nbconvert_exporter": "python",
   "pygments_lexer": "ipython3",
   "version": "3.10.12"
  }
 },
 "nbformat": 4,
 "nbformat_minor": 2
}
